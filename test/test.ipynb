{
 "cells": [
  {
   "cell_type": "code",
   "execution_count": 17,
   "metadata": {},
   "outputs": [],
   "source": [
    "import pandas as pd\n",
    "import os\n",
    "import sys\n",
    "sys.path.append(\"..\")\n",
    "import regex as re\n",
    "from tqdm import tqdm"
   ]
  },
  {
   "cell_type": "code",
   "execution_count": 13,
   "metadata": {},
   "outputs": [],
   "source": [
    "pd.set_option('display.max_columns', None)\n",
    "pd.set_option('display.max_rows', None)\n",
    "pd.set_option('display.max_colwidth', None)\n",
    "pd.set_option('display.width', None)"
   ]
  },
  {
   "cell_type": "code",
   "execution_count": 23,
   "metadata": {},
   "outputs": [
    {
     "name": "stderr",
     "output_type": "stream",
     "text": [
      "  0%|          | 0/2 [00:00<?, ?it/s]"
     ]
    },
    {
     "name": "stdout",
     "output_type": "stream",
     "text": [
      "reading: N\n"
     ]
    },
    {
     "name": "stderr",
     "output_type": "stream",
     "text": [
      "100%|██████████| 2/2 [00:00<00:00,  4.20it/s]"
     ]
    },
    {
     "name": "stdout",
     "output_type": "stream",
     "text": [
      "reading VNX_TP_articles.csv: VNX_TP_articles\n",
      "reading: a\n",
      "reading cafef_articles.csv: cafef_articles\n"
     ]
    },
    {
     "name": "stderr",
     "output_type": "stream",
     "text": [
      "\n"
     ]
    },
    {
     "data": {
      "text/plain": [
       "dict_keys(['VNX_TP_articles', 'cafef_articles'])"
      ]
     },
     "execution_count": 23,
     "metadata": {},
     "output_type": "execute_result"
    }
   ],
   "source": [
    "folder_path = 'RAW_DATA'\n",
    "\n",
    "absfolder = os.path.abspath(folder_path)\n",
    "\n",
    "if not os.path.exists(absfolder):\n",
    "    print(f\"folder {absfolder} not exist\")\n",
    "else:\n",
    "    dataframes = {}\n",
    "\n",
    "    for filename in tqdm(os.listdir(absfolder)):\n",
    "        if filename.endswith(\".csv\"):\n",
    "            file_path = os.path.join(absfolder, filename)\n",
    "            dfnames = os.path.splitext(filename)[0]\n",
    "            print(f\"reading: {filename[1]}\")\n",
    "            \n",
    "            try:\n",
    "                dataframes[dfnames] = pd.read_csv(file_path)\n",
    "                print(f\"reading {filename}: {dfnames}\")\n",
    "            except Exception as e:\n",
    "                print(f\"cant read {filename}: {repr(e)}\")\n",
    "\n",
    "dataframes.keys()"
   ]
  },
  {
   "cell_type": "code",
   "execution_count": 25,
   "metadata": {},
   "outputs": [
    {
     "name": "stdout",
     "output_type": "stream",
     "text": [
      "VNX_TP_articles Index(['id', 'title', 'link', 'content', 'date', 'author', 'category',\n",
      "       'source'],\n",
      "      dtype='object')\n",
      "cafef_articles Index(['id', 'title', 'link', 'content', 'date', 'author', 'category',\n",
      "       'source'],\n",
      "      dtype='object')\n"
     ]
    }
   ],
   "source": [
    "\n",
    "dataframes\n",
    "for key, val in dataframes.items():\n",
    "    print (key, val.columns)"
   ]
  },
  {
   "cell_type": "code",
   "execution_count": null,
   "metadata": {},
   "outputs": [],
   "source": []
  }
 ],
 "metadata": {
  "kernelspec": {
   "display_name": "base",
   "language": "python",
   "name": "python3"
  },
  "language_info": {
   "codemirror_mode": {
    "name": "ipython",
    "version": 3
   },
   "file_extension": ".py",
   "mimetype": "text/x-python",
   "name": "python",
   "nbconvert_exporter": "python",
   "pygments_lexer": "ipython3",
   "version": "3.12.2"
  }
 },
 "nbformat": 4,
 "nbformat_minor": 2
}
