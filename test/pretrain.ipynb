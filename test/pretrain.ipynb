{
 "cells": [
  {
   "cell_type": "code",
   "execution_count": 16,
   "metadata": {},
   "outputs": [
    {
     "ename": "ModuleNotFoundError",
     "evalue": "No module named 'transformers'",
     "output_type": "error",
     "traceback": [
      "\u001b[0;31m---------------------------------------------------------------------------\u001b[0m",
      "\u001b[0;31mModuleNotFoundError\u001b[0m                       Traceback (most recent call last)",
      "Cell \u001b[0;32mIn[16], line 6\u001b[0m\n\u001b[1;32m      4\u001b[0m \u001b[38;5;28;01mimport\u001b[39;00m \u001b[38;5;21;01mtorch\u001b[39;00m\n\u001b[1;32m      5\u001b[0m \u001b[38;5;28;01mfrom\u001b[39;00m \u001b[38;5;21;01mdatasets\u001b[39;00m \u001b[38;5;28;01mimport\u001b[39;00m load_dataset, DatasetDict\n\u001b[0;32m----> 6\u001b[0m \u001b[38;5;28;01mfrom\u001b[39;00m \u001b[38;5;21;01mtransformers\u001b[39;00m \u001b[38;5;28;01mimport\u001b[39;00m AutoTokenizer,BartTokenizer, MBartForConditionalGeneration, BartForConditionalGeneration, Seq2SeqTrainer, Seq2SeqTrainingArguments, DataCollatorForSeq2Seq\n\u001b[1;32m      7\u001b[0m \u001b[38;5;28;01mimport\u001b[39;00m \u001b[38;5;21;01mpandas\u001b[39;00m \u001b[38;5;28;01mas\u001b[39;00m \u001b[38;5;21;01mpd\u001b[39;00m\n\u001b[1;32m      8\u001b[0m \u001b[38;5;28;01mimport\u001b[39;00m \u001b[38;5;21;01mnumpy\u001b[39;00m \u001b[38;5;28;01mas\u001b[39;00m \u001b[38;5;21;01mnp\u001b[39;00m\n",
      "\u001b[0;31mModuleNotFoundError\u001b[0m: No module named 'transformers'"
     ]
    }
   ],
   "source": [
    "import pandas as pd\n",
    "from datasets import load_dataset\n",
    "import os\n",
    "import torch\n",
    "from datasets import load_dataset, DatasetDict\n",
    "from transformers import AutoTokenizer,BartTokenizer, MBartForConditionalGeneration, BartForConditionalGeneration, Seq2SeqTrainer, Seq2SeqTrainingArguments, DataCollatorForSeq2Seq\n",
    "import pandas as pd\n",
    "import numpy as np"
   ]
  },
  {
   "cell_type": "code",
   "execution_count": 21,
   "metadata": {},
   "outputs": [
    {
     "name": "stdout",
     "output_type": "stream",
     "text": [
      "The folder you are executing pip from can no longer be found.\n"
     ]
    }
   ],
   "source": [
    "!pip install transformers"
   ]
  },
  {
   "cell_type": "code",
   "execution_count": 7,
   "metadata": {},
   "outputs": [
    {
     "name": "stderr",
     "output_type": "stream",
     "text": [
      "Generating dev.dev_30s split: 100%|██████████| 944/944 [00:00<00:00, 86414.43 examples/s]\n",
      "Generating dev.dev_full_dialogue split: 100%|██████████| 624/624 [00:00<00:00, 223983.37 examples/s]\n",
      "Generating dev.dev_no_vntc split: 100%|██████████| 1056/1056 [00:00<00:00, 288602.66 examples/s]\n",
      "Generating dev.dev_whole split: 100%|██████████| 1126/1126 [00:00<00:00, 235128.26 examples/s]\n",
      "Generating dev.en_dev_30s split: 100%|██████████| 944/944 [00:00<00:00, 350670.71 examples/s]\n",
      "Generating dev.en_dev_full_dialogue split: 100%|██████████| 624/624 [00:00<00:00, 253020.66 examples/s]\n",
      "Generating dev.en_dev_whole split: 100%|██████████| 1126/1126 [00:00<00:00, 431422.88 examples/s]\n",
      "Generating test.en_test_30s split: 100%|██████████| 1461/1461 [00:00<00:00, 495262.11 examples/s]\n",
      "Generating test.en_test_30s_asr split: 100%|██████████| 1461/1461 [00:00<00:00, 392963.84 examples/s]\n",
      "Generating test.en_test_full_dialogue split: 100%|██████████| 1461/1461 [00:00<00:00, 358691.06 examples/s]\n",
      "Generating test.en_test_full_dialogue_asr split: 100%|██████████| 1461/1461 [00:00<00:00, 584442.36 examples/s]\n",
      "Generating test.en_test_whole split: 100%|██████████| 1461/1461 [00:00<00:00, 455672.08 examples/s]\n",
      "Generating test.test_30s split: 100%|██████████| 1262/1262 [00:00<00:00, 378410.90 examples/s]\n",
      "Generating test.test_30s_asr split: 100%|██████████| 1189/1189 [00:00<00:00, 522365.92 examples/s]\n",
      "Generating test.test_full_dialogue split: 100%|██████████| 767/767 [00:00<00:00, 392895.84 examples/s]\n",
      "Generating test.test_full_dialogue_asr split: 100%|██████████| 763/763 [00:00<00:00, 310282.52 examples/s]\n",
      "Generating test.test_no_vntc split: 100%|██████████| 1391/1391 [00:00<00:00, 446694.50 examples/s]\n",
      "Generating test.test_whole split: 100%|██████████| 1461/1461 [00:00<00:00, 497756.33 examples/s]\n",
      "Generating train.en_train_19k split: 100%|██████████| 18981/18981 [00:00<00:00, 802743.48 examples/s]\n",
      "Generating train.en_train_20k split: 100%|██████████| 20528/20528 [00:00<00:00, 788027.50 examples/s]\n",
      "Generating train.en_train_30s split: 100%|██████████| 1397/1397 [00:00<00:00, 515886.84 examples/s]\n",
      "Generating train.en_train_full_dialogue split: 100%|██████████| 382/382 [00:00<00:00, 120160.80 examples/s]\n",
      "Generating train.en_train_whole split: 100%|██████████| 1547/1547 [00:00<00:00, 407753.93 examples/s]\n",
      "Generating train.train_19k split: 100%|██████████| 18981/18981 [00:00<00:00, 731506.84 examples/s]\n",
      "Generating train.train_20k split: 100%|██████████| 20528/20528 [00:00<00:00, 853309.87 examples/s]\n",
      "Generating train.train_30s split: 100%|██████████| 1397/1397 [00:00<00:00, 593481.48 examples/s]\n",
      "Generating train.train_full_dialogue split: 100%|██████████| 382/382 [00:00<00:00, 201461.60 examples/s]\n",
      "Generating train.train_whole split: 100%|██████████| 1547/1547 [00:00<00:00, 553303.34 examples/s]\n"
     ]
    }
   ],
   "source": [
    "vmss = load_dataset(\"leduckhai/VietMed-Sum\")"
   ]
  },
  {
   "cell_type": "code",
   "execution_count": null,
   "metadata": {},
   "outputs": [
    {
     "name": "stdout",
     "output_type": "stream",
     "text": [
      "Dataset structure:\n",
      "\n",
      "Transcript excerpt:  dưới ạ dạng sắc uống hoặc tán nhở bột dưới đây là một số bài thuốc thông dụng nghệ đen và ích mẫu mẫu mỗi thứ thứ g sắc uống ngày nhỉ một thang chữa huyết ứ hành kinh không thông thông có nhiều nhiều huyết khối bế kinh vầng máu ra kéo dài vậy đen đông thành khối nhỏ người bệnh bệnh thường kèm theo đau bụng trước khi thấy nghệ đen đen g muối muối ăn hạt hạt đun với sữa cho sôi chừng phút hòa tan tý chút vâng ngưu hoàng lượng lượng ờ bằng hạt gạo gạo chia uống nhiều lần trong ngày dùng chữa chứng nôn ở trẻ đang bú nghệ đen g hạt hả\n",
      "\n",
      "Summary:  bài thuốc nghệ đen và ích mẫu khi đung sôi chữa huyết ứ và hành kinh thông, giảm đau bụng và chứng nôn ở trẻ.\n"
     ]
    }
   ],
   "source": [
    "print(\"Dataset structure:\")\n",
    "\n",
    "print(\"\\nTranscript excerpt: \", sample['transcript'])\n",
    "print(\"\\nSummary: \", sample['summary'])\n"
   ]
  },
  {
   "cell_type": "code",
   "execution_count": null,
   "metadata": {},
   "outputs": [],
   "source": []
  }
 ],
 "metadata": {
  "kernelspec": {
   "display_name": "base",
   "language": "python",
   "name": "python3"
  },
  "language_info": {
   "codemirror_mode": {
    "name": "ipython",
    "version": 3
   },
   "file_extension": ".py",
   "mimetype": "text/x-python",
   "name": "python",
   "nbconvert_exporter": "python",
   "pygments_lexer": "ipython3",
   "version": "3.12.2"
  }
 },
 "nbformat": 4,
 "nbformat_minor": 2
}
